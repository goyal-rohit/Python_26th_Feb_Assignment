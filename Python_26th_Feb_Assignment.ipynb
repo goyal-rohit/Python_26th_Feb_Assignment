{
 "cells": [
  {
   "cell_type": "code",
   "execution_count": 18,
   "id": "a518aeb3-38c0-41b5-8389-eaebdad2596b",
   "metadata": {},
   "outputs": [],
   "source": [
    "import numpy as np\n",
    "list_ = [ '1' , '2' , '3' , '4' , '5' ]\n",
    "array_list = np.array(object = list_)"
   ]
  },
  {
   "cell_type": "markdown",
   "id": "9a5d5985-a9ae-460b-b56e-9e44f2d58c19",
   "metadata": {},
   "source": [
    "#### Q1. Is there any difference in the data type of variables list_ and array_list? If there is then write a code to print the data types of both the variables."
   ]
  },
  {
   "cell_type": "markdown",
   "id": "3599c90a-86e0-4072-b192-0e5983906d73",
   "metadata": {},
   "source": [
    "Yes, there is a difference between the data types of list_ and array_list. The variable list_ is of data type list, while the variable array_list is of data type Numpy N Dimentional Array"
   ]
  },
  {
   "cell_type": "code",
   "execution_count": 19,
   "id": "4a1cc945-f63b-4e8a-97f0-b7cd7be8e1e6",
   "metadata": {},
   "outputs": [
    {
     "data": {
      "text/plain": [
       "list"
      ]
     },
     "execution_count": 19,
     "metadata": {},
     "output_type": "execute_result"
    }
   ],
   "source": [
    "type(list_)"
   ]
  },
  {
   "cell_type": "code",
   "execution_count": 20,
   "id": "3cfce39a-1ae6-4981-a33a-cb1a7cbed7aa",
   "metadata": {},
   "outputs": [
    {
     "data": {
      "text/plain": [
       "numpy.ndarray"
      ]
     },
     "execution_count": 20,
     "metadata": {},
     "output_type": "execute_result"
    }
   ],
   "source": [
    "type(array_list)"
   ]
  },
  {
   "cell_type": "markdown",
   "id": "5c848d95-ac0d-4544-af24-220c98c099ff",
   "metadata": {},
   "source": [
    "#### Q2. Write a code to print the data type of each and every element of both the variables list_ and array_list."
   ]
  },
  {
   "cell_type": "code",
   "execution_count": 21,
   "id": "4a9949c7-7641-4c9e-aab3-5b366b75193c",
   "metadata": {},
   "outputs": [
    {
     "name": "stdout",
     "output_type": "stream",
     "text": [
      "The data type of 1 is <class 'str'>\n",
      "The data type of 2 is <class 'str'>\n",
      "The data type of 3 is <class 'str'>\n",
      "The data type of 4 is <class 'str'>\n",
      "The data type of 5 is <class 'str'>\n"
     ]
    }
   ],
   "source": [
    "for i in list_:\n",
    "    print(f\"The data type of {i} is {type(i)}\")"
   ]
  },
  {
   "cell_type": "code",
   "execution_count": 22,
   "id": "40f613f4-7be3-450e-aff7-0603a101c8ef",
   "metadata": {},
   "outputs": [
    {
     "name": "stdout",
     "output_type": "stream",
     "text": [
      "The data type of 1 is <class 'numpy.str_'>\n",
      "The data type of 2 is <class 'numpy.str_'>\n",
      "The data type of 3 is <class 'numpy.str_'>\n",
      "The data type of 4 is <class 'numpy.str_'>\n",
      "The data type of 5 is <class 'numpy.str_'>\n"
     ]
    }
   ],
   "source": [
    "for i in array_list:\n",
    "    print(f\"The data type of {i} is {type(i)}\")"
   ]
  },
  {
   "cell_type": "markdown",
   "id": "acd34da0-2354-47be-80c9-989053be02ad",
   "metadata": {},
   "source": [
    "#### Q3. Considering the following changes in the variable, array_list:"
   ]
  },
  {
   "cell_type": "code",
   "execution_count": 23,
   "id": "b29ce7f3-c57e-4a15-bd64-1eb0af4c49d8",
   "metadata": {},
   "outputs": [],
   "source": [
    "array_list = np.array(object = list_, dtype = int)"
   ]
  },
  {
   "cell_type": "markdown",
   "id": "ea29f40d-376d-44bf-9f8f-d06b6f0e7789",
   "metadata": {},
   "source": [
    "##### Will there be any difference in the data type of the elements present in both the variables, list_ and arra_list? If so then print the data types of each and every element present in both the variables, list_ and array_list."
   ]
  },
  {
   "cell_type": "code",
   "execution_count": 24,
   "id": "ef88e7bd-4b32-44d6-a9b2-d919ebe638da",
   "metadata": {},
   "outputs": [
    {
     "name": "stdout",
     "output_type": "stream",
     "text": [
      "The data type of 1 is <class 'numpy.int32'>\n",
      "The data type of 2 is <class 'numpy.int32'>\n",
      "The data type of 3 is <class 'numpy.int32'>\n",
      "The data type of 4 is <class 'numpy.int32'>\n",
      "The data type of 5 is <class 'numpy.int32'>\n"
     ]
    }
   ],
   "source": [
    "for i in array_list:\n",
    "    print(f\"The data type of {i} is {type(i)}\")"
   ]
  },
  {
   "cell_type": "markdown",
   "id": "701f5fc8-3e07-43fa-9708-2d9912008bc1",
   "metadata": {},
   "source": [
    "So as shown above, passing dtype argument as int has changed the datatype of each element from str to int."
   ]
  },
  {
   "cell_type": "code",
   "execution_count": 25,
   "id": "7a985aa1-4d87-4418-95ff-0b4cc07a753d",
   "metadata": {},
   "outputs": [],
   "source": [
    "import numpy as np\n",
    "num_list = [ [ 1 , 2 , 3 ] , [ 4 , 5 , 6 ] ]\n",
    "num_array = np.array(object = num_list)"
   ]
  },
  {
   "cell_type": "markdown",
   "id": "bcd8b66d-f50d-4049-9eb8-306a401a6d7a",
   "metadata": {},
   "source": [
    "### Q4. Write a code to find the following characteristics of variable, num_array:\n",
    "(i) shape\n",
    "(ii) size"
   ]
  },
  {
   "cell_type": "code",
   "execution_count": 26,
   "id": "3924d099-219d-4508-9869-51ea6fc99637",
   "metadata": {},
   "outputs": [
    {
     "data": {
      "text/plain": [
       "(2, 3)"
      ]
     },
     "execution_count": 26,
     "metadata": {},
     "output_type": "execute_result"
    }
   ],
   "source": [
    "num_array.shape"
   ]
  },
  {
   "cell_type": "code",
   "execution_count": 27,
   "id": "e2a4e8c1-4687-4f62-b86c-0979bafd7aec",
   "metadata": {},
   "outputs": [
    {
     "data": {
      "text/plain": [
       "6"
      ]
     },
     "execution_count": 27,
     "metadata": {},
     "output_type": "execute_result"
    }
   ],
   "source": [
    "num_array.size"
   ]
  },
  {
   "cell_type": "markdown",
   "id": "00ff38a5-faa3-49b0-bd6e-38aeb5554dac",
   "metadata": {},
   "source": [
    "### Q5. Write a code to create numpy array of 3*3 matrix containing zeros only, using a numpy array creation function.\n",
    "#### [Hint: The size of the array will be 9 and the shape will be (3,3).]"
   ]
  },
  {
   "cell_type": "code",
   "execution_count": 28,
   "id": "f3831513-675e-4a19-aa6d-85a09874216e",
   "metadata": {},
   "outputs": [
    {
     "data": {
      "text/plain": [
       "array([[0., 0., 0.],\n",
       "       [0., 0., 0.],\n",
       "       [0., 0., 0.]])"
      ]
     },
     "execution_count": 28,
     "metadata": {},
     "output_type": "execute_result"
    }
   ],
   "source": [
    "np.zeros((3,3))"
   ]
  },
  {
   "cell_type": "markdown",
   "id": "cf7f7ba0-9526-4b98-bd47-df972f7d5efc",
   "metadata": {},
   "source": [
    "### Q6. Create an identity matrix of shape (5,5) using numpy functions?\n",
    "#### [Hint: An identity matrix is a matrix containing 1 diagonally and other elements will be 0.]"
   ]
  },
  {
   "cell_type": "code",
   "execution_count": 29,
   "id": "30ac6265-cc1f-4fcd-affa-65b07a74e3be",
   "metadata": {},
   "outputs": [
    {
     "data": {
      "text/plain": [
       "array([[1., 0., 0., 0., 0.],\n",
       "       [0., 1., 0., 0., 0.],\n",
       "       [0., 0., 1., 0., 0.],\n",
       "       [0., 0., 0., 1., 0.],\n",
       "       [0., 0., 0., 0., 1.]])"
      ]
     },
     "execution_count": 29,
     "metadata": {},
     "output_type": "execute_result"
    }
   ],
   "source": [
    "np.eye(5)"
   ]
  },
  {
   "cell_type": "code",
   "execution_count": null,
   "id": "c28d36de-6a8f-4f63-abaa-d8ad1e50a871",
   "metadata": {},
   "outputs": [],
   "source": []
  }
 ],
 "metadata": {
  "kernelspec": {
   "display_name": "Python 3 (ipykernel)",
   "language": "python",
   "name": "python3"
  },
  "language_info": {
   "codemirror_mode": {
    "name": "ipython",
    "version": 3
   },
   "file_extension": ".py",
   "mimetype": "text/x-python",
   "name": "python",
   "nbconvert_exporter": "python",
   "pygments_lexer": "ipython3",
   "version": "3.9.13"
  }
 },
 "nbformat": 4,
 "nbformat_minor": 5
}
